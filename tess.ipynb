{
 "cells": [
  {
   "cell_type": "code",
   "id": "initial_id",
   "metadata": {
    "collapsed": true,
    "ExecuteTime": {
     "end_time": "2024-12-02T09:12:41.810520Z",
     "start_time": "2024-12-02T09:12:41.329324Z"
    }
   },
   "source": [
    "import pandas as pd\n",
    "\n",
    "reviews_data = pd.read_json(\"reviews.jsonl\", lines=True)"
   ],
   "outputs": [],
   "execution_count": 1
  },
  {
   "metadata": {
    "ExecuteTime": {
     "end_time": "2024-12-02T09:13:10.089810Z",
     "start_time": "2024-12-02T09:13:10.074498Z"
    }
   },
   "cell_type": "code",
   "source": [
    "reviews = reviews_data[['title', 'text']].dropna()\n",
    "reviews.head()"
   ],
   "id": "eefdece6d379bc91",
   "outputs": [
    {
     "data": {
      "text/plain": [
       "                                 title  \\\n",
       "0     No white background! It’s clear!   \n",
       "1  Awesome!  Great price!  Works well!   \n",
       "2   Worked but took an hour to install   \n",
       "3                               Decent   \n",
       "4                             LOVE IT!   \n",
       "\n",
       "                                                text  \n",
       "0  I bought this bc I thought it had the nice whi...  \n",
       "1  Perfect. How pissed am I that I recently paid ...  \n",
       "2  Overall very happy with the end result. If you...  \n",
       "3  Lasted about 9 months then the lock button bro...  \n",
       "4  LOVE THIS CASE! Works better than my expensive...  "
      ],
      "text/html": [
       "<div>\n",
       "<style scoped>\n",
       "    .dataframe tbody tr th:only-of-type {\n",
       "        vertical-align: middle;\n",
       "    }\n",
       "\n",
       "    .dataframe tbody tr th {\n",
       "        vertical-align: top;\n",
       "    }\n",
       "\n",
       "    .dataframe thead th {\n",
       "        text-align: right;\n",
       "    }\n",
       "</style>\n",
       "<table border=\"1\" class=\"dataframe\">\n",
       "  <thead>\n",
       "    <tr style=\"text-align: right;\">\n",
       "      <th></th>\n",
       "      <th>title</th>\n",
       "      <th>text</th>\n",
       "    </tr>\n",
       "  </thead>\n",
       "  <tbody>\n",
       "    <tr>\n",
       "      <th>0</th>\n",
       "      <td>No white background! It’s clear!</td>\n",
       "      <td>I bought this bc I thought it had the nice whi...</td>\n",
       "    </tr>\n",
       "    <tr>\n",
       "      <th>1</th>\n",
       "      <td>Awesome!  Great price!  Works well!</td>\n",
       "      <td>Perfect. How pissed am I that I recently paid ...</td>\n",
       "    </tr>\n",
       "    <tr>\n",
       "      <th>2</th>\n",
       "      <td>Worked but took an hour to install</td>\n",
       "      <td>Overall very happy with the end result. If you...</td>\n",
       "    </tr>\n",
       "    <tr>\n",
       "      <th>3</th>\n",
       "      <td>Decent</td>\n",
       "      <td>Lasted about 9 months then the lock button bro...</td>\n",
       "    </tr>\n",
       "    <tr>\n",
       "      <th>4</th>\n",
       "      <td>LOVE IT!</td>\n",
       "      <td>LOVE THIS CASE! Works better than my expensive...</td>\n",
       "    </tr>\n",
       "  </tbody>\n",
       "</table>\n",
       "</div>"
      ]
     },
     "execution_count": 3,
     "metadata": {},
     "output_type": "execute_result"
    }
   ],
   "execution_count": 3
  }
 ],
 "metadata": {
  "kernelspec": {
   "display_name": "Python 3",
   "language": "python",
   "name": "python3"
  },
  "language_info": {
   "codemirror_mode": {
    "name": "ipython",
    "version": 2
   },
   "file_extension": ".py",
   "mimetype": "text/x-python",
   "name": "python",
   "nbconvert_exporter": "python",
   "pygments_lexer": "ipython2",
   "version": "2.7.6"
  }
 },
 "nbformat": 4,
 "nbformat_minor": 5
}
